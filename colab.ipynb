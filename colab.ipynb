{
 "metadata": {
  "language_info": {
   "codemirror_mode": {
    "name": "ipython",
    "version": 3
   },
   "file_extension": ".py",
   "mimetype": "text/x-python",
   "name": "python",
   "nbconvert_exporter": "python",
   "pygments_lexer": "ipython3",
   "version": 3
  },
  "orig_nbformat": 2
 },
 "nbformat": 4,
 "nbformat_minor": 2,
 "cells": [
  {
   "source": [
    "Import Respository (Replace the Access Token)"
   ],
   "cell_type": "markdown",
   "metadata": {}
  },
  {
   "cell_type": "code",
   "execution_count": null,
   "metadata": {},
   "outputs": [],
   "source": [
    "!git clone https://username:<access_token>@github.com/ganeshh123/cloudGAN.git\n",
    "%cd /content/cloudGAN/\n",
    "!ls -a -l"
   ]
  },
  {
   "source": [
    "Install Requirements"
   ],
   "cell_type": "markdown",
   "metadata": {}
  },
  {
   "cell_type": "code",
   "execution_count": null,
   "metadata": {},
   "outputs": [],
   "source": [
    "!pip3 install -r src/requirements.txt"
   ]
  },
  {
   "source": [
    "Setup"
   ],
   "cell_type": "markdown",
   "metadata": {}
  },
  {
   "cell_type": "code",
   "execution_count": null,
   "metadata": {},
   "outputs": [],
   "source": [
    "#Create env file\n",
    "import os\n",
    "import zipfile\n",
    "import sys\n",
    "from pathlib import Path\n",
    "\n",
    "os.system('git update-index --skip-worktree .env')\n",
    "open('.env', 'a+').close()\n",
    "\n",
    "userDataFolder = Path(sys.path[0]).resolve() / 'userdata'\n",
    "# Create User Data Folder\n",
    "userDataFolder.mkdir(exist_ok=True)\n",
    "(userDataFolder / 'product_store').mkdir(exist_ok=True)\n",
    "(userDataFolder / 'rgb_store').mkdir(exist_ok=True)\n",
    "(userDataFolder / 'mask_store').mkdir(exist_ok=True)\n",
    "(userDataFolder / 'cyclegan_input').mkdir(exist_ok=True)\n",
    "(userDataFolder / 'cyclegan_output').mkdir(exist_ok=True)\n",
    "(userDataFolder / 'cyclegan_output').mkdir(exist_ok=True)\n",
    "\n",
    "# Absolute Path to Static Data\n",
    "staticDataPath = open(userDataFolder / 'staticDataPath.txt' , 'w+')\n",
    "staticDataPath.write(str(Path(sys.path[0]).resolve() / 'data'))\n",
    "staticDataPath.close()\n",
    "# Absolute Path to UserData\n",
    "userDataPath = open(userDataFolder / 'userDataPath.txt' , 'w+')\n",
    "userDataPath.write(str(userDataFolder.resolve()))\n",
    "userDataPath.close()\n",
    "\n",
    "# Create File to Store Parameters\n",
    "open(userDataFolder / 'parameters.txt' , 'a+').close()\n",
    "# Create File to Store Search Results for Download\n",
    "open(userDataFolder / 'searchResults.txt' , 'a+').close()\n",
    "\n",
    "# Create Output Directories\n",
    "outputFolder = Path(sys.path[0]).resolve() / 'output'\n",
    "outputFolder.mkdir(exist_ok=True)\n",
    "(outputFolder / 'surface').mkdir(exist_ok=True)\n",
    "(outputFolder / 'masks').mkdir(exist_ok=True)\n",
    "(outputFolder / 'clouds').mkdir(exist_ok=True)\n",
    "(outputFolder / 'images').mkdir(exist_ok=True)\n",
    "\n",
    "print('Unzipping Cloudless Set...')\n",
    "zipfile.ZipFile(Path(sys.path[0]).resolve() / 'data'/ 'surface_set.zip').extractall((outputFolder / 'surface').resolve())"
   ]
  },
  {
   "source": [
    "Enter Copernicus Credentials (Fill Out & Run Cell)"
   ],
   "cell_type": "markdown",
   "metadata": {}
  },
  {
   "cell_type": "code",
   "execution_count": null,
   "metadata": {},
   "outputs": [],
   "source": [
    "%%writefile ./.env\n",
    "# Fill with copernicus username\n",
    "copernicus_username=\n",
    "# Fill with copernicus username\n",
    "copernicus_pass=\n",
    "\n",
    "# Example\n",
    "# copernicus_username=myusername\n",
    "# copernicus_pass=mypass"
   ]
  },
  {
   "cell_type": "code",
   "execution_count": null,
   "metadata": {},
   "outputs": [],
   "source": [
    "Download Products (Optional) - Enter value after productCount"
   ]
  },
  {
   "cell_type": "code",
   "execution_count": null,
   "metadata": {},
   "outputs": [],
   "source": [
    "!python3 src/search_for_cloudy.py --productCount \n",
    "!python3 src/copernicus_download.py\n",
    "\n",
    "try:\n",
    "    os.remove(userDataFolder / 'imagePaths.txt')\n",
    "except:\n",
    "    print('Error Occured Deleting Image Paths File')"
   ]
  },
  {
   "source": [
    "Process Inputs for CycleGAN"
   ],
   "cell_type": "markdown",
   "metadata": {}
  },
  {
   "cell_type": "code",
   "execution_count": null,
   "metadata": {},
   "outputs": [],
   "source": [
    "try:\n",
    "    os.remove(userDataFolder / 'imagePaths.txt')\n",
    "except:\n",
    "    print('Error Occured Deleting Image Paths File')\n",
    "\n",
    "!python3 src/unzip_images.py\n",
    "\n",
    "!python3 src/build_rgb_images.py\n",
    "\n",
    "!python3 src/build_mask_images.py\n",
    "\n",
    "!python3 src/slice_images.py\n",
    "\n",
    "!python3 src/sort_tiles.py\n",
    "\n",
    "!python3 src/colab_prep_cyclegan.py"
   ]
  },
  {
   "source": [
    "Run CycleGAN (GPU Mode)"
   ],
   "cell_type": "markdown",
   "metadata": {}
  },
  {
   "cell_type": "code",
   "execution_count": null,
   "metadata": {},
   "outputs": [],
   "source": [
    "!python3 ./src/cyclegan/test.py --dataroot ./userdata/cyclegan_input --name mask-cloud-networks --model cycle_gan --checkpoints_dir ./data --results_dir ./userdata/cyclegan_output --num_test 3500 --load_size 200 --crop_size 200\n",
    "\n",
    "!python3 src/finish_cyclegan.py"
   ]
  },
  {
   "source": [
    "Run CycleGAN (in CPU Mode)"
   ],
   "cell_type": "markdown",
   "metadata": {}
  },
  {
   "cell_type": "code",
   "execution_count": null,
   "metadata": {},
   "outputs": [],
   "source": [
    "!python3 ./src/cyclegan/test.py --dataroot ./userdata/cyclegan_input --name mask-cloud-networks --model cycle_gan --checkpoints_dir ./data --results_dir ./userdata/cyclegan_output --num_test 3500 --load_size 200 --crop_size 200 --gpu_ids -1\n",
    "\n",
    "!python3 src/finish_cyclegan.py"
   ]
  },
  {
   "source": [
    "Overlay Clouds"
   ],
   "cell_type": "markdown",
   "metadata": {}
  },
  {
   "cell_type": "code",
   "execution_count": null,
   "metadata": {},
   "outputs": [],
   "source": [
    "!python3 src/overlay_clouds.py"
   ]
  },
  {
   "source": [
    "Compress Output for Download"
   ],
   "cell_type": "markdown",
   "metadata": {}
  },
  {
   "cell_type": "code",
   "execution_count": null,
   "metadata": {},
   "outputs": [],
   "source": [
    "import shutil\n",
    "print('\\n Compressing Output Folder...\\n')\n",
    "shutil.make_archive('./output/training-set', 'zip', './output')\n",
    "print('\\nDone\\n')\n",
    "print('\\nFinished - Generated Training Set can be found in outputs folder\\n')"
   ]
  },
  {
   "source": [
    "Import GDrive"
   ],
   "cell_type": "markdown",
   "metadata": {}
  },
  {
   "cell_type": "code",
   "execution_count": null,
   "metadata": {},
   "outputs": [],
   "source": [
    "from google.colab import drive\n",
    "drive.mount('/content/drive')"
   ]
  },
  {
   "cell_type": "code",
   "execution_count": null,
   "metadata": {},
   "outputs": [],
   "source": [
    "Export Produced Training Set Zip to Gdrive"
   ]
  },
  {
   "cell_type": "code",
   "execution_count": null,
   "metadata": {},
   "outputs": [],
   "source": [
    "!cp /content/cloudGAN/output/training-set.zip /content/drive/MyDrive/training-set.zip "
   ]
  }
 ]
}