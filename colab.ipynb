{
 "metadata": {
  "language_info": {
   "codemirror_mode": {
    "name": "ipython",
    "version": 3
   },
   "file_extension": ".py",
   "mimetype": "text/x-python",
   "name": "python",
   "nbconvert_exporter": "python",
   "pygments_lexer": "ipython3",
   "version": 3
  },
  "orig_nbformat": 2
 },
 "nbformat": 4,
 "nbformat_minor": 2,
 "cells": [
  {
   "source": [
    "Install Requirements"
   ],
   "cell_type": "markdown",
   "metadata": {}
  },
  {
   "cell_type": "code",
   "execution_count": null,
   "metadata": {},
   "outputs": [],
   "source": [
    "os.system('python -m pip install -r src/requirements.txt')"
   ]
  },
  {
   "source": [
    "Setup"
   ],
   "cell_type": "markdown",
   "metadata": {}
  },
  {
   "cell_type": "code",
   "execution_count": null,
   "metadata": {},
   "outputs": [],
   "source": [
    "#Create env file\n",
    "os.system('git update-index --skip-worktree .env')\n",
    "open('.env', 'a+').close()\n",
    "\n",
    "userDataFolder = Path(sys.path[0]).resolve() / 'userdata'\n",
    "# Create User Data Folder\n",
    "userDataFolder.mkdir(exist_ok=True)\n",
    "(userDataFolder / 'product_store').mkdir(exist_ok=True)\n",
    "(userDataFolder / 'rgb_store').mkdir(exist_ok=True)\n",
    "(userDataFolder / 'mask_store').mkdir(exist_ok=True)\n",
    "(userDataFolder / 'cyclegan_input').mkdir(exist_ok=True)\n",
    "(userDataFolder / 'cyclegan_output').mkdir(exist_ok=True)\n",
    "(userDataFolder / 'cyclegan_output').mkdir(exist_ok=True)\n",
    "\n",
    "# Absolute Path to Static Data\n",
    "staticDataPath = open(userDataFolder / 'staticDataPath.txt' , 'w+')\n",
    "staticDataPath.write(str(Path(sys.path[0]).resolve() / 'data'))\n",
    "staticDataPath.close()\n",
    "# Absolute Path to UserData\n",
    "userDataPath = open(userDataFolder / 'userDataPath.txt' , 'w+')\n",
    "userDataPath.write(str(userDataFolder.resolve()))\n",
    "userDataPath.close()\n",
    "\n",
    "# Create File to Store Parameters\n",
    "open(userDataFolder / 'parameters.txt' , 'a+').close()\n",
    "# Create File to Store Search Results for Download\n",
    "open(userDataFolder / 'searchResults.txt' , 'a+').close()\n",
    "\n",
    "# Create Output Directories\n",
    "outputFolder = Path(sys.path[0]).resolve() / 'output'\n",
    "outputFolder.mkdir(exist_ok=True)\n",
    "(outputFolder / 'surface').mkdir(exist_ok=True)\n",
    "(outputFolder / 'masks').mkdir(exist_ok=True)\n",
    "(outputFolder / 'clouds').mkdir(exist_ok=True)\n",
    "(outputFolder / 'images').mkdir(exist_ok=True)\n",
    "\n",
    "print('Unzipping Cloudless Set...')\n",
    "zipfile.ZipFile(Path(sys.path[0]).resolve() / 'data'/ 'surface_set.zip').extractall((outputFolder / 'surface').resolve())"
   ]
  },
  {
   "cell_type": "code",
   "execution_count": null,
   "metadata": {},
   "outputs": [],
   "source": [
    "Download & Extract Products"
   ]
  },
  {
   "cell_type": "code",
   "execution_count": null,
   "metadata": {},
   "outputs": [],
   "source": [
    "print('Would you like to download new products?')\n",
    "noValidDownloadInput = True\n",
    "while(noValidDownloadInput):\n",
    "    userWantsToDownload = input('y or n :')\n",
    "    if userWantsToDownload == 'y':\n",
    "        noValidDownloadInput = False\n",
    "\n",
    "        print('How many products to download?')\n",
    "        print(' Each product equals roughly 75 clouds')\n",
    "        noValidProductNumberInput = True\n",
    "        while(noValidProductNumberInput):\n",
    "            requestedProductNumberInput = input('Number of products to download (between 1 and 50) : ')\n",
    "            if requestedProductNumberInput.isdigit() and int(requestedProductNumberInput) >= 1 and int(requestedProductNumberInput) <= 50:\n",
    "                requestedProductNumber = int(requestedProductNumberInput)\n",
    "                print(requestedProductNumber, ' products to be downloaded...\\n\\n')\n",
    "                noValidProductNumberInput = False\n",
    "                os.system('python src/search_for_cloudy.py --productCount ' + str(requestedProductNumber))\n",
    "                os.system('python src/copernicus_download.py')\n",
    "            else:\n",
    "                print('\\n Invalid Input, please try again!')\n",
    "\n",
    "    elif userWantsToDownload == 'n':\n",
    "        print('No products will be downloaded')\n",
    "        print('Please put your own product zip files in userdata/product_store folder')\n",
    "        noValidDownloadInput = False\n",
    "    else:\n",
    "        print('\\n Invalid Input, please try again!')\n",
    "\n",
    "try:\n",
    "    os.remove(userDataFolder / 'imagePaths.txt')\n",
    "except:\n",
    "    print('Error Occured Deleting Image Paths File')"
   ]
  },
  {
   "source": [
    "Process Inputs for CycleGAN"
   ],
   "cell_type": "markdown",
   "metadata": {}
  },
  {
   "cell_type": "code",
   "execution_count": null,
   "metadata": {},
   "outputs": [],
   "source": [
    "os.system('python src/unzip_images.py')\n",
    "print('\\nConverting to RGB Images\\n')\n",
    "os.system('python src/build_rgb_images.py')\n",
    "print('\\nExtracting Masks\\n')\n",
    "os.system('python src/build_mask_images.py')\n",
    "print('\\nSlicing into Tiles\\n')\n",
    "os.system('python src/slice_images.py')\n",
    "print('\\nSorting by Cloud Cover\\n')\n",
    "os.system('python src/sort_tiles.py')\n",
    "print('\\nPreparing CycleGAN\\n')\n",
    "os.system('python src/prep_cyclegan.py')"
   ]
  },
  {
   "source": [
    "Run CycleGAN"
   ],
   "cell_type": "markdown",
   "metadata": {}
  },
  {
   "cell_type": "code",
   "execution_count": null,
   "metadata": {},
   "outputs": [],
   "source": [
    "print('\\n Running CycleGAN\\n')\n",
    "os.system('python src/run_cyclegan.py')\n",
    "print('\\n Fetching Clouds\\n')\n",
    "os.system('python src/finish_cyclegan.py')"
   ]
  },
  {
   "source": [
    "Overlay Clouds"
   ],
   "cell_type": "markdown",
   "metadata": {}
  },
  {
   "cell_type": "code",
   "execution_count": null,
   "metadata": {},
   "outputs": [],
   "source": [
    "print('\\n Overlaying Clouds\\n')\n",
    "os.system('python src/overlay_clouds.py')"
   ]
  },
  {
   "source": [
    "Compress Output for Download"
   ],
   "cell_type": "markdown",
   "metadata": {}
  },
  {
   "cell_type": "code",
   "execution_count": null,
   "metadata": {},
   "outputs": [],
   "source": [
    "print('\\n Compressing Output Folder...\\n')\n",
    "shutil.make_archive('./output/training-set', 'zip', './output')\n",
    "print('\\nDone\\n')\n",
    "print('\\nFinished - Generated Training Set can be found in outputs folder\\n')"
   ]
  }
 ]
}